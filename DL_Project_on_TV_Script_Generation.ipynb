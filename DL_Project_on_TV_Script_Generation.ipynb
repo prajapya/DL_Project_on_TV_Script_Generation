{
 "cells": [
  {
   "cell_type": "code",
   "execution_count": null,
   "metadata": {},
   "outputs": [],
   "source": []
  },
  {
   "cell_type": "code",
   "execution_count": null,
   "metadata": {},
   "outputs": [],
   "source": [
    "from urllib.request import urlretrieve\n",
    "from os.path import isfile, isdir\n",
    "from tqdm import tqdm\n",
    "import tarfile"
   ]
  },
  {
   "cell_type": "markdown",
   "metadata": {},
   "source": [
    "<b> Below code is only to download and extract data and its already done manually "
   ]
  },
  {
   "cell_type": "code",
   "execution_count": null,
   "metadata": {},
   "outputs": [],
   "source": [
    "cifar10_dataset_folder_path = 'cifar-10-batches-py'\n",
    "class DLProgress(tqdm):\n",
    "    last_block = 0\n",
    "    def hook(self, block_num=1, block_size=1, total_size=None):\n",
    "        self.total = total_size\n",
    "        self.update((block_num - self.last_block) * block_size)\n",
    "        self.last_block = block_num\n",
    "            \n",
    "if not isfile('cifar-10-python.tar.gz'):\n",
    "    DLProgress\n",
    "    with DLProgress(unit='B', unit_scale=True, miniters=1, desc='CIFAR-10 Dataset') as pbar:        \n",
    "        urlretrieve('https://www.cs.toronto.edu/~kriz/cifar-10-python.tar.gz', 'cifar-10-python.tar.gz', pbar.hook)\n",
    "        \n",
    "if not isdir(cifar10_dataset_folder_path):\n",
    "    with tarfile.open('cifar-10-python.tar.gz') as tar:\n",
    "        tar.extractall()\n",
    "        tar.close()"
   ]
  },
  {
   "cell_type": "code",
   "execution_count": null,
   "metadata": {},
   "outputs": [],
   "source": [
    "import pickle\n",
    "import numpy as np\n",
    "import matplotlib.pyplot as plt\n",
    "from sklearn.preprocessing import LabelBinarizer\n",
    "\n",
    "def _load_label_names():\n",
    "\"\"\"\n",
    "Load the label names from file\n",
    "\"\"\"\n",
    "return ['airplane', 'automobile', 'bird', 'cat', 'deer', 'dog', 'frog', 'horse\n",
    "def load_cfar10_batch(cifar10_dataset_folder_path, batch_id):\n",
    "\"\"\"\n",
    "Load a batch of the dataset\n",
    "\"\"\"\n",
    "with open(cifar10_dataset_folder_path + '/data_batch_' + str(batch_id), mode=\n",
    "batch = pickle.load(file, encoding='latin1')\n",
    "features = batch['data'].reshape((len(batch['data']), 3, 32, 32)).transpose(0\n",
    "labels = batch['labels']\n",
    "return features, labels\n",
    "def display_stats(cifar10_dataset_folder_path, batch_id, sample_id):\n",
    "\"\"\"\n",
    "Display Stats of the the dataset\n",
    "\"\"\"\n",
    "batch_ids = list(range(1, 6))\n",
    "if batch_id not in batch_ids:\n",
    "print('Batch Id out of Range. Possible Batch Ids: {}'.format(batch_ids))\n",
    "return None\n",
    "features, labels = load_cfar10_batch(cifar10_dataset_folder_path, batch_id)\n",
    "if not (0 <= sample_id < len(features)):\n",
    "print('{} samples in batch {}. {} is out of range.'.format(len(features)\n",
    "return None\n",
    "print('\\nStats of batch {}:'.format(batch_id))\n",
    "print('Samples: {}'.format(len(features)))\n",
    "print('Label Counts: {}'.format(dict(zip(*np.unique(labels, return_counts=True\n",
    "print('First 20 Labels: {}'.format(labels[:20]))\n",
    "sample_image = features[sample_id]\n",
    "sample_label = labels[sample_id]\n",
    "label_names = _load_label_names()\n",
    "                                                    \n",
    "print('\\nExample of Image {}:'.format(sample_id))\n",
    "print('Image - Min Value: {} Max Value: {}'.format(sample_image.min(), sample_\n",
    "print('Image - Shape: {}'.format(sample_image.shape))\n",
    "print('Label - Label Id: {} Name: {}'.format(sample_label, label_names[sample_\n",
    "plt.axis('off')\n",
    "                                                                       \n",
    "                                                                       "
   ]
  }
 ],
 "metadata": {
  "kernelspec": {
   "display_name": "Python 3",
   "language": "python",
   "name": "python3"
  },
  "language_info": {
   "codemirror_mode": {
    "name": "ipython",
    "version": 3
   },
   "file_extension": ".py",
   "mimetype": "text/x-python",
   "name": "python",
   "nbconvert_exporter": "python",
   "pygments_lexer": "ipython3",
   "version": "3.7.1"
  }
 },
 "nbformat": 4,
 "nbformat_minor": 2
}
